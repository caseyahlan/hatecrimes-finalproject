{
 "cells": [
  {
   "cell_type": "code",
   "execution_count": 2,
   "metadata": {},
   "outputs": [
    {
     "data": {
      "text/html": [
       "\n",
       "<style>\n",
       ".prompt {\n",
       "  display: none;\n",
       "}\n",
       "</style>\n",
       "<script>\n",
       "  function code_toggle() {\n",
       "    if (code_shown){\n",
       "      $('div.input').hide('500');\n",
       "      $('#toggleButton').val('Show Code')\n",
       "    } else {\n",
       "      $('div.input').show('500');\n",
       "      $('#toggleButton').val('Hide Code')\n",
       "    }\n",
       "    code_shown = !code_shown\n",
       "  }\n",
       "\n",
       "  $( document ).ready(function(){\n",
       "    code_shown=false;\n",
       "    $('div.input').hide()\n",
       "  });\n",
       "</script>\n",
       "<form action=\"javascript:code_toggle()\"><input type=\"submit\" id=\"toggleButton\" value=\"Show Code\"></form>"
      ],
      "text/plain": [
       "<IPython.core.display.HTML object>"
      ]
     },
     "execution_count": 2,
     "metadata": {},
     "output_type": "execute_result"
    }
   ],
   "source": [
    "from IPython.display import HTML\n",
    "HTML('''\n",
    "<style>\n",
    ".prompt {\n",
    "  display: none;\n",
    "}\n",
    "</style>\n",
    "<script>\n",
    "  function code_toggle() {\n",
    "    if (code_shown){\n",
    "      $('div.input').hide('500');\n",
    "      $('#toggleButton').val('Show Code')\n",
    "    } else {\n",
    "      $('div.input').show('500');\n",
    "      $('#toggleButton').val('Hide Code')\n",
    "    }\n",
    "    code_shown = !code_shown\n",
    "  }\n",
    "\n",
    "  $( document ).ready(function(){\n",
    "    code_shown=false;\n",
    "    $('div.input').hide()\n",
    "  });\n",
    "</script>\n",
    "<form action=\"javascript:code_toggle()\"><input type=\"submit\" id=\"toggleButton\" value=\"Show Code\"></form>''')"
   ]
  },
  {
   "cell_type": "code",
   "execution_count": 3,
   "metadata": {},
   "outputs": [
    {
     "ename": "ModuleNotFoundError",
     "evalue": "No module named 'wordcloud'",
     "output_type": "error",
     "traceback": [
      "\u001b[0;31m---------------------------------------------------------------------------\u001b[0m",
      "\u001b[0;31mModuleNotFoundError\u001b[0m                       Traceback (most recent call last)",
      "\u001b[0;32m<ipython-input-3-571c88735de7>\u001b[0m in \u001b[0;36m<module>\u001b[0;34m()\u001b[0m\n\u001b[1;32m      1\u001b[0m \u001b[0;32mimport\u001b[0m \u001b[0mpandas\u001b[0m \u001b[0;32mas\u001b[0m \u001b[0mpd\u001b[0m\u001b[0;34m\u001b[0m\u001b[0m\n\u001b[1;32m      2\u001b[0m \u001b[0;32mimport\u001b[0m \u001b[0mmatplotlib\u001b[0m\u001b[0;34m.\u001b[0m\u001b[0mpyplot\u001b[0m \u001b[0;32mas\u001b[0m \u001b[0mplt\u001b[0m\u001b[0;34m\u001b[0m\u001b[0m\n\u001b[0;32m----> 3\u001b[0;31m \u001b[0;32mfrom\u001b[0m \u001b[0mwordcloud\u001b[0m \u001b[0;32mimport\u001b[0m \u001b[0mWordCloud\u001b[0m\u001b[0;34m\u001b[0m\u001b[0m\n\u001b[0m\u001b[1;32m      4\u001b[0m \u001b[0;32mimport\u001b[0m \u001b[0maltair\u001b[0m \u001b[0;32mas\u001b[0m \u001b[0malt\u001b[0m\u001b[0;34m\u001b[0m\u001b[0m\n\u001b[1;32m      5\u001b[0m \u001b[0malt\u001b[0m\u001b[0;34m.\u001b[0m\u001b[0mrenderers\u001b[0m\u001b[0;34m.\u001b[0m\u001b[0menable\u001b[0m\u001b[0;34m(\u001b[0m\u001b[0;34m'notebook'\u001b[0m\u001b[0;34m)\u001b[0m\u001b[0;34m;\u001b[0m\u001b[0;34m\u001b[0m\u001b[0m\n",
      "\u001b[0;31mModuleNotFoundError\u001b[0m: No module named 'wordcloud'"
     ]
    }
   ],
   "source": [
    "import pandas as pd\n",
    "import matplotlib.pyplot as plt\n",
    "from wordcloud import WordCloud\n",
    "import altair as alt\n",
    "alt.renderers.enable('notebook');\n",
    "import warnings\n",
    "warnings.filterwarnings('ignore')"
   ]
  },
  {
   "cell_type": "markdown",
   "metadata": {},
   "source": [
    "# Hate Crimes: Problem Overview"
   ]
  },
  {
   "cell_type": "markdown",
   "metadata": {},
   "source": [
    "On November 29, 2018, a psychology professor at Columbia Teachers College walked into her office to be faced with anti-Semitic graffiti: two swastikas and an anti-Semitic slur “Yid”, as featured below. This incident is one example of the rise of anti-semitism and, more broadly, hate crimes within the United States. \n",
    "![anti-semitic graffiti](./hate_crime.jpg)\n",
    "\n",
    "### Project Description\n",
    "The purpose of the research project is to investigate hate crimes data to better understand relationships between an area’s demographics and socioeconomic levels and incidence of hate crimes. It is an important undertaking because better understanding this data would help us in acknowledging the current trends and common motivations behind hate crimes. Using insights from our analyses, we can then predict hate crime rates based on the appropriate socioeconomic factors.\n",
    "\n",
    "### About Hate Crimes\n",
    "- Throughout history, many sociologists have published theories on how social inequality is associated with crimes. Even back in 1947, Edwin Sutherland argued that there are less crimes in “egalitarian, consensual societies” compared to “inequitable societies characterized by conflicting beliefs”. More recently, in their paper, “Divergent Social Worlds: Neighborhood Crime and the Racial-Spatial Divide”, authors Peterson and Krivo found that whites and non-whites “live in divergent socioeconomic worlds generated by racialized social structures, which in turn produce socioeconomic differences and ultimately differences in crime rates”.\n",
    "[link](http://faculty.washington.edu/matsueda/Papers/Inequality.pdf)\n",
    "- From 2004 to 2015, the U.S. Department of Justice reported that “U.S. residents experienced an average of 250,000 hate crime victimizations each year”. These include, but are not limited to, assault, sexual assault, rape, robbery, and other types of theft. Also during this same period, 46% of the violent crimes that occured happened in the Western region of the U.S., with urban areas being a high target.\n",
    "[link](https://www.bjs.gov/content/pub/pdf/hcv0415.pdf)\n",
    "- Hate crimes are an ongoing problem that don’t seem to be on the decline. In fact, hate crimes in the U.S.’s top ten largest cities increased 12.5% in 2017. Apparently, this “increase was the fourth consecutive annual rise in a row and the highest total in over a decade”. Racial bias is one of the most common motivations crimes from 2011-2015, and in 2017, the most common crimes were committed by those that were anti-Black, anti-Semitic, anti-gay, and anti-Latino.\n",
    "[link](https://csbs.csusb.edu/sites/csusb_csbs/files/2018%20Hate%20Final%20Report%205-14.pdf)\n",
    "\n",
    "\n",
    "### The Datasets\n",
    "For our analysis, we consulted two sources for a total of 8 data tables that detail United States' hate crime incidents and related demographics collected for the year 2016.\n",
    "\n",
    "[Hate crime data](https://ucr.fbi.gov/hate-crime/2016?fbclid=IwAR1XrwBRWJ40IyGjTS5iVbL6BGAhZEr3mCFthpispOog7p4zMfIGSL0jGy0) from the FBI that includes data about hate crime incidents from 2016, including motivations, victims, offenders, locations, and rates by jurisdiction. The source of their data is Uniform Crime Reporting from local governments. We used 7 tables from this source:\n",
    "\n",
    "|Table| Title | Data|\n",
    "|-----|-------|-----|\n",
    "|Table 1|_Incidents, Offenses, Victims, and Known Offenders by Bias Motivation_|Includes data on the amount of hate incidents/offenses, the number of victims and the number of known offenders for each bias motivation for the whole United States|\n",
    "|Table 2|_Incidents, Offenses, Victims and Known Offenders by Offense Type_|Similar to the previous table, table 2 Includes data on the amount of hate incidents/offenses, the number of victims and the number of known offenders for each offense type in the entire country.|\n",
    "|Table 3|_Offenses - Known Offender's Race and Ethnicity by Offense Type_|Includes data on the frequency of each offense type as committed by each race and ethnicity. This table shows us which race is committing the most offenses.|\n",
    "|Table 4| _Offenses - Offense Type by Bias Motivation_ |Includes data on frequencies of offense type for each bias motivation, for example, that there were 5 murders motivated by anti-white biases.|\n",
    "|Table 5|_Offenses - Known Offenders Race and Ethnicity by Bias Motivation_|Includes data on the frequency of offenses for each race|\n",
    "|Table 11|_Offenses - Offense Type by Participating State_|Includes each state except Hawaii who does not participate in reporting, their total offenses and the frequency of each offense type|\n",
    "|Table 10|_Incidents - Bias Motivation by Location_|Includes data on where the incident occured, such as college/university or highway/road as well as the bias motivation such as sexural orientation. We use this data to specifically see where hate crimes are most likely to take place as well as where bias-motivations are most likely to take place. |\n",
    "\n",
    "\n",
    "[Hate crime data](https://github.com/fivethirtyeight/data/tree/master/hate-crimes?fbclid=IwAR0QCVEZ251T-gjpKoidETkvmS3ohND_Wk21TmlD_vg7mdNNgRXJLkwQRpY) from fivethirtyeight, which includes hate crime rates, as well as other demographic data such as median household income, rate of non white residents, rate of voters who voted for Trump, and more. The sources of their data are the Kaiser Family Foundation, the Census Bureau, the United States Elections Project, the Southern Poverty Law Center, and the FBI.\n",
    " - These variable will be used in our analysis in determining whether these factors are related to higher rates of hate crimes.\n",
    " \n",
    "# Impact of Analysis\n",
    "- _Target Audience_: Law enforcement/government - to better understand some of the trends and motivations behind hate crimes that are happening in the country. States that have high hate crime rates can improve training for law enforcement officers to better handle these situations\n",
    "- _Secondary Audience_: Communities - all people can use this resource to better understand what is happening in their community and can work to improve their communities through advocacy and education\n",
    "\n",
    "Experiencing a hate incident causes harmful psychological effects, such as post-traumatic stress and depression. In fact, “people victimized by violent hate crimes are more likely to experience more psychological distress than victims of other violent crimes” [link](https://www.apa.org/advocacy/interpersonal-violence/hate-crimes.aspx). \n",
    "\n",
    "Understanding how and where hate crime arise both within the United States and within each state can help motivate new legislation that protects victims from incidents as well as more research that looks into why certain groups experience more hate crimes than others.\n"
   ]
  },
  {
   "cell_type": "markdown",
   "metadata": {},
   "source": [
    "# Data Preparation"
   ]
  },
  {
   "cell_type": "markdown",
   "metadata": {},
   "source": [
    "Determine what to do about null values\n",
    "Discuss variables\n",
    "Continue discussion of data"
   ]
  },
  {
   "cell_type": "code",
   "execution_count": null,
   "metadata": {},
   "outputs": [],
   "source": [
    "data_538 = pd.read_csv(\"./data/hate_crimes.csv\")\n",
    "off_by_bias_motivation = pd.read_csv(\"./data/table_1_incidents_offenses_victims_and_known_offenders_by_bias_motivation_2016.csv\")\n",
    "off_by_off_type = pd.read_csv(\"./data/table_2_incidents_offenses_victims_and_known_offenders_by_offense_type_2016.csv\")\n",
    "off_race_by_off_type = pd.read_csv(\"./data/table_3_offenses_known_offenders_race_and_ethnicity_by_offense_type_2016.csv\")\n",
    "off_type_by_bias_motivation = pd.read_csv(\"./data/table_4_offenses_offense_type_by_bias_motivation_2016.csv\")\n",
    "off_race_by_bias_motivation = pd.read_csv(\"./data/table_5_offenses_known_offenders_race_and_ethnicity_by_bias_motivation_2016.csv\")\n",
    "off_by_state = pd.read_csv(\"./data/table_11_offenses_offense_type_by_participating_state_2016.csv\")\n",
    "locations = pd.read_csv(\"./data/table_10_incidents_bias_motivation_by_location_2016.csv\")\n",
    "\n",
    "    \n"
   ]
  },
  {
   "cell_type": "markdown",
   "metadata": {},
   "source": [
    "Link to [View Data Tables](datatables.ipynb)\n",
    "\n",
    "(we can take this out but I thought it might be a good idea)"
   ]
  },
  {
   "cell_type": "markdown",
   "metadata": {},
   "source": [
    "# Exploratory Data Analysis\n",
    "Exploration questions - how many crimes per state\n",
    "High-level insights, trends, outliers, etc.\n",
    "\n",
    "\n",
    "## Offenses by bias motivation"
   ]
  },
  {
   "cell_type": "code",
   "execution_count": null,
   "metadata": {},
   "outputs": [],
   "source": [
    "off_by_bias = off_by_bias_motivation.iloc[1:35,::]\n",
    "\n",
    "off_by_bias['incidents + offenses'] = off_by_bias['Incidents'] + off_by_bias['Offenses']\n",
    "\n",
    "\n",
    "order = off_by_bias['Bias motivation']\n",
    "\n",
    "order = order.as_matrix()\n",
    "\n",
    "incidents = alt.Chart(off_by_bias).mark_bar().encode(\n",
    "    alt.X('Bias motivation', sort = ['Anti-Black or African American',\n",
    "       'Anti-American Indian or Alaska Native', 'Anti-Asian',\n",
    "       'Anti-Native Hawaiian or Other Pacific Islander',\n",
    "       'Anti-Multiple Races, Group', 'Anti-Arab',\n",
    "       'Anti-Hispanic or Latino', 'Anti-Other Race/Ethnicity/Ancestry',\n",
    "       'Anti-Jewish', 'Anti-Catholic', 'Anti-Protestant',\n",
    "       'Anti-Islamic (Muslim)', 'Anti-Other Religion',\n",
    "       'Anti-Multiple Religions, Group', 'Anti-Mormon',\n",
    "       \"Anti-Jehovah's Witness\",\n",
    "       'Anti-Eastern Orthodox (Russian, Greek, Other)',\n",
    "       'Anti-Other Christian', 'Anti-Buddhist', 'Anti-Hindu', 'Anti-Sikh',\n",
    "       'Anti-Atheism/Agnosticism/etc.', 'Anti-Gay (Male)', 'Anti-Lesbian',\n",
    "       'Anti-Lesbian, Gay, Bisexual, or Transgender (Mixed Group)',\n",
    "       'Anti-Heterosexual', 'Anti-Bisexual', 'Anti-Physical Disability',\n",
    "       'Anti-Mental Disability', 'Anti-Male', 'Anti-Female',\n",
    "       'Anti-Transgender', 'Anti-Gender Non-Conforming',\n",
    "       'Multiple-Bias Incidents']),\n",
    "    alt.Y('incidents + offenses'),\n",
    "    color='Type',\n",
    ")\n",
    "incidents\n",
    "\n",
    "\n"
   ]
  },
  {
   "cell_type": "markdown",
   "metadata": {},
   "source": [
    "The first chart aims to look at the frequency of hate incidents for each bias-motivation that were reported in 2016. The bars are colored corresponding to their more general categories, such as Anti Black and Anti Arab being colored green since they correspond to \"Race/Ethnicity/Ancestry\".\n",
    "\n",
    "From this chart, it is immediatly clear that Anti-Black or African American motivated incidents have the highest frequency at around 3900. This doubles the frequencies of both Anti-Jewish and Anti-Gay (Male) motivated incidents, which are both respectively, the most frequent attacks for the Religion and Sexual Orientation categories.\n",
    "\n",
    "[Previous FBI results](https://www.nbcnews.com/news/nbcblk/every-tally-hate-crimes-blacks-are-most-frequent-victims-n938541) paint a similar picture, with African Americans being targeted more than any other minority group, a fact that is in line with the US's treatment of African Americans, from slavery to the current political climate where white nationalism has become mainstream.\n",
    "\n",
    "Noteably, the biases that motivated the least hate incidents are Anti-Native Hawaaiin, Anti-Mormon, Anti-Jehovah's Witness, Anti-Buddhist and Anti-Male. It's important to note that although Anti-Native Hawaaiin motivated hate crimes rank low via this chart, the original FBI data frame does not inclde hate crame data from Hawaii, as it is the one state which does not take part in the annual report. It would be interesting and potentially enlightening for future studies to consult data on Hawaii's hate crimes, for there is much left uncovered."
   ]
  },
  {
   "cell_type": "code",
   "execution_count": null,
   "metadata": {},
   "outputs": [],
   "source": [
    "splc = alt.Chart(data_538).mark_bar(opacity = 0.6).encode(x = 'state', y = 'hate_crimes_per_100k_splc:Q')\n",
    "fbi = alt.Chart(data_538).mark_bar(opacity = 0.2, color = 'red').encode(x = 'state', y = 'avg_hatecrimes_per_100k_fbi:Q')\n",
    "splc+fbi"
   ]
  },
  {
   "cell_type": "code",
   "execution_count": null,
   "metadata": {},
   "outputs": [],
   "source": [
    "populations = pd.read_csv(\"./data/estimated_population_2016.csv\")\n",
    "\n",
    "data_538['population_2016'] = populations['population']\n"
   ]
  },
  {
   "cell_type": "code",
   "execution_count": null,
   "metadata": {},
   "outputs": [],
   "source": [
    "plt.figure(figsize=(15, 15))\n",
    "plt.pie(x=off_by_bias['incidents + offenses'],startangle=55, labels = off_by_bias['Bias motivation'], labeldistance=1.05);\n",
    "plt.axis('equal');"
   ]
  },
  {
   "cell_type": "markdown",
   "metadata": {},
   "source": [
    "The pie chart is a different visualization of the same data as detailed above. The benefit of the pie chart as compared to the previous bar chart is its ability to approximate that Anti-Black motivated hate incidents' encompass about a third of all hate incidents in the US as reported in 2016. "
   ]
  },
  {
   "cell_type": "code",
   "execution_count": null,
   "metadata": {},
   "outputs": [],
   "source": [
    "ethnicities = off_race_by_off_type[['Offense type', 'Hispanic or Latino',\n",
    "       'Not Hispanic or Latino', 'Group of multiple ethnicities',\n",
    "       'Unknown ethnicity', 'Unknown offender']]\n",
    "\n",
    "races = off_race_by_off_type[['Offense type', 'White', 'Black or African\\nAmerican', 'American Indian or Alaska Native', 'Asian', 'Native Hawaiian or Other Pacific Islander', 'Group of multiple races', 'Unknown race', 'Unknown offender']]\n",
    "\n",
    "\n",
    "hi = ethnicities.T\n",
    "\n",
    "\n",
    "ho = races.T\n",
    "\n",
    "\n",
    "plt.figure(figsize=(5, 5))\n",
    "plt.pie(x=hi[17][1:8].astype(int),startangle=0, labels = hi.index[1:8], labeldistance=1.05);\n",
    "plt.axis('equal');\n",
    "\n"
   ]
  },
  {
   "cell_type": "markdown",
   "metadata": {},
   "source": [
    "The next pie chart shows the proportion of offenses as committed by each ethnicity, a total of 5 which include (in order of highhest proportion):\n",
    "- Unknown offender\n",
    "- Unknown ethnicity\n",
    "- Not Hispanic or Latino\n",
    "- Hispanic or Latino\n",
    "- Group of multiple ethnicities\n",
    "\n",
    "The Unknown Offender slice takes up approximately 2/3 of the pie chart, meaning 2/3 of reported hate crimes do not have any data on the offender. The Unknown Ethnicity slice, meaning some aspect of the offender was identified but not their ethnicity, has the second highest freqency, affirming that most hate crime offenders do not have a reported ethnicity."
   ]
  },
  {
   "cell_type": "code",
   "execution_count": null,
   "metadata": {},
   "outputs": [],
   "source": [
    "plt.figure(figsize=(5, 5))\n",
    "plt.pie(x=ho[17][1:8].astype(int),startangle=170, labels = ho.index[1:8], labeldistance=1.1);\n",
    "plt.axis('equal');"
   ]
  },
  {
   "cell_type": "markdown",
   "metadata": {},
   "source": [
    "Although the offenders' ethnicities are mostly hidden from the dataset, the offenders' reported race is slightly more comprehensive, as shown in the next pie chart.\n",
    "\n",
    "In this pie chart, the Unknown Race slice takes up almost half of the chart, though is followed by the white race, taking up about 1/3 of the pie. Black or African American make up the third largest chunk."
   ]
  },
  {
   "cell_type": "markdown",
   "metadata": {},
   "source": [
    "## Hate crimes per 100k people by median household income"
   ]
  },
  {
   "cell_type": "code",
   "execution_count": null,
   "metadata": {},
   "outputs": [],
   "source": [
    "bymedian = alt.Chart(data_538).mark_circle().encode(alt.X('gini_index:Q', scale=alt.Scale(domain=[0.4, 0.54])), alt.Y('avg_hatecrimes_per_100k_fbi:Q'))\n",
    "bymedian\n"
   ]
  },
  {
   "cell_type": "markdown",
   "metadata": {},
   "source": [
    "The gini_index scatterplot aims to discover the relationship between each state's gini index and the average hatecrimms per 100k for each state. This data comes from FiveThirtyEight's hate crime GitHub page, which was used in their article discussing the impact of income inequality on hate crimes.\n",
    "\n",
    "The Gini Index is a measure of economic inequality, with a value of 0 representing perfect equality and a measure of 1 representing representing extreme inequality (one person holding all the wealth in a community).\n",
    "\n",
    "The article explains that community's with highher rates of income inequality have higher rates of hate crimes, supposing that the crimes are motivated by resentment towards minorities who the offender percieves to be doing better than them.\n",
    "\n",
    "The scatterplot shows that the gini index and hate crames are not correlated. There is also a noteable outlier with a high gini index (~0.53) and high hate crime rate (comparatively higher than other states) of 11 per 100k people. This state is the District of Columbia. This may be due to the districts small population or better reporting standards.\n",
    "\n",
    "It's important to note that although the gini-index is one measure of income inequality, it is not the only measure. In fact, the same data frame from which the gini index was taken, also includes features such as median household income which we created a scatterplot for below."
   ]
  },
  {
   "cell_type": "code",
   "execution_count": null,
   "metadata": {},
   "outputs": [],
   "source": [
    "bystate = alt.Chart(data_538).mark_circle().encode(x = 'median_household_income:Q', y = 'avg_hatecrimes_per_100k_fbi:Q')\n",
    "\n",
    "bystate"
   ]
  },
  {
   "cell_type": "markdown",
   "metadata": {},
   "source": [
    "The results of the scatterplot shows a higher, positive correlation than the gini-index, again with a noteable outlier. The same outlier (11 hatecrimes per 100k) has a median income of just under $70,000. This state is Washington DC. \n",
    "\n",
    "The higher a state's median household income, the higher the average hate crime rate.\n",
    "\n",
    "In our statistical modeling section, we combine the two features (gini index and median household income) along with other features of income inequality in predicting a state's hate crime incididences. "
   ]
  },
  {
   "cell_type": "code",
   "execution_count": null,
   "metadata": {},
   "outputs": [],
   "source": [
    "alt.Chart(data_538).mark_circle().encode(\n",
    "    alt.X(alt.repeat(\"column\"), type='quantitative'),\n",
    "    alt.Y(alt.repeat(\"row\"), type='quantitative'),\n",
    ").properties(\n",
    "    width=100,\n",
    "    height=100\n",
    ").repeat(\n",
    "    row=['avg_hatecrimes_per_100k_fbi'],\n",
    "    column=['share_unemployed_seasonal',\n",
    "       'share_population_in_metro_areas',\n",
    "       'share_population_with_high_school_degree', 'share_non_citizen',\n",
    "       'share_white_poverty', 'share_non_white',\n",
    "       'share_voters_voted_trump']\n",
    ")"
   ]
  },
  {
   "cell_type": "code",
   "execution_count": null,
   "metadata": {},
   "outputs": [],
   "source": [
    "import plotly.plotly as py\n",
    "import pandas as pd\n",
    "import plotly\n",
    "\n",
    "plotly.tools.set_credentials_file(username='caseyahlan', api_key='0WpK0XNGz71YCokMFYqB')\n",
    "\n",
    "for col in data_538.columns:\n",
    "    data_538[col] = data_538[col].astype(str)\n",
    "\n",
    "scl = [[0.0, 'rgb(242,240,247)'],[0.2, 'rgb(218,218,235)'],[0.4, 'rgb(188,189,220)'],\\\n",
    "            [0.6, 'rgb(158,154,200)'],[0.8, 'rgb(117,107,177)'],[1.0, 'rgb(84,39,143)']]\n",
    "\n",
    "data_538['text'] = data_538['state'] + '<br>' +\\\n",
    "    'Average per 100k people: '+data_538['avg_hatecrimes_per_100k_fbi']\n",
    "\n",
    "data = [ dict(\n",
    "        type='choropleth',\n",
    "        colorscale =  scl,\n",
    "        autocolorscale = False,\n",
    "        locations = data_538['code'],\n",
    "        z = data_538['avg_hatecrimes_per_100k_fbi'].astype(float),\n",
    "        locationmode = 'USA-states',\n",
    "        text = data_538['text'],\n",
    "        marker = dict(\n",
    "            line = dict (\n",
    "                color = 'rgb(255,255,255)',\n",
    "                width = 2\n",
    "            )\n",
    "        ),\n",
    "        colorbar = dict(\n",
    "            title = \"Hate Crimes per 100k\"\n",
    "        )\n",
    "    ) ]\n",
    "\n",
    "layout = dict(\n",
    "        title = 'Hate crimes per 100k people',\n",
    "        geo = dict(\n",
    "            scope='usa',\n",
    "            projection=dict( type='albers usa' ),\n",
    "            showlakes = True,\n",
    "            lakecolor = 'rgb(255, 255, 255)',\n",
    "        ),\n",
    "    )\n",
    "\n",
    "fig = dict( data=data, layout=layout )\n",
    "\n",
    "py.iplot( fig, filename='fbi' )"
   ]
  },
  {
   "cell_type": "code",
   "execution_count": null,
   "metadata": {},
   "outputs": [],
   "source": [
    "plotly.tools.set_credentials_file(username='caseyahlan', api_key='0WpK0XNGz71YCokMFYqB')\n",
    "\n",
    "for col in off_by_state.columns:\n",
    "    off_by_state[col] = off_by_state[col].astype(str)\n",
    "\n",
    "scl = [[0.0, 'rgb(242,240,247)'],[0.2, 'rgb(218,218,235)'],[0.4, 'rgb(188,189,220)'],\\\n",
    "            [0.6, 'rgb(158,154,200)'],[0.8, 'rgb(117,107,177)'],[1.0, 'rgb(84,39,143)']]\n",
    "\n",
    "off_by_state['text'] = off_by_state['Participating state'] + '<br>' +\\\n",
    "    'total offenses: '+ off_by_state['Total offenses']\n",
    "\n",
    "data = [ dict(\n",
    "        type='choropleth',\n",
    "        colorscale =  scl,\n",
    "        autocolorscale = False,\n",
    "        locations = off_by_state['code'][:51],\n",
    "        z = off_by_state['Total offenses'][:51].astype(float),\n",
    "        locationmode = 'USA-states',\n",
    "        text = off_by_state['text'][:51],\n",
    "        marker = dict(\n",
    "            line = dict (\n",
    "                color = 'rgb(255,255,255)',\n",
    "                width = 2\n",
    "            )\n",
    "        ),\n",
    "        colorbar = dict(\n",
    "            title = \"Hate Crimes in 2016\"\n",
    "        )\n",
    "    ) ]\n",
    "\n",
    "layout = dict(\n",
    "        title = 'Total hate crime offenses in 2016',\n",
    "        geo = dict(\n",
    "            scope='usa',\n",
    "            projection=dict( type='albers usa' ),\n",
    "            showlakes = True,\n",
    "            lakecolor = 'rgb(255, 255, 255)',\n",
    "        ),\n",
    "    )\n",
    "\n",
    "fig = dict( data=data, layout=layout )\n",
    "\n",
    "py.iplot( fig, filename='total offenses' )"
   ]
  },
  {
   "cell_type": "markdown",
   "metadata": {},
   "source": [
    "# Statistical Modeling"
   ]
  },
  {
   "cell_type": "markdown",
   "metadata": {},
   "source": [
    "Null Hypothesis\n"
   ]
  },
  {
   "cell_type": "markdown",
   "metadata": {},
   "source": []
  },
  {
   "cell_type": "markdown",
   "metadata": {},
   "source": []
  },
  {
   "cell_type": "markdown",
   "metadata": {},
   "source": []
  }
 ],
 "metadata": {
  "kernelspec": {
   "display_name": "Python 3",
   "language": "python",
   "name": "python3"
  },
  "language_info": {
   "codemirror_mode": {
    "name": "ipython",
    "version": 3
   },
   "file_extension": ".py",
   "mimetype": "text/x-python",
   "name": "python",
   "nbconvert_exporter": "python",
   "pygments_lexer": "ipython3",
   "version": "3.6.5"
  }
 },
 "nbformat": 4,
 "nbformat_minor": 2
}
