{
 "cells": [
  {
   "cell_type": "code",
   "execution_count": 55,
   "metadata": {},
   "outputs": [
    {
     "data": {
      "text/html": [
       "\n",
       "<style>\n",
       ".prompt {\n",
       "  display: none;\n",
       "}\n",
       "</style>\n",
       "<script>\n",
       "  function code_toggle() {\n",
       "    if (code_shown){\n",
       "      $('div.input').hide('500');\n",
       "      $('#toggleButton').val('Show Code')\n",
       "    } else {\n",
       "      $('div.input').show('500');\n",
       "      $('#toggleButton').val('Hide Code')\n",
       "    }\n",
       "    code_shown = !code_shown\n",
       "  }\n",
       "\n",
       "  $( document ).ready(function(){\n",
       "    code_shown=false;\n",
       "    $('div.input').hide()\n",
       "  });\n",
       "</script>\n",
       "<form action=\"javascript:code_toggle()\"><input type=\"submit\" id=\"toggleButton\" value=\"Show Code\"></form>"
      ],
      "text/plain": [
       "<IPython.core.display.HTML object>"
      ]
     },
     "execution_count": 55,
     "metadata": {},
     "output_type": "execute_result"
    }
   ],
   "source": [
    "from IPython.display import HTML\n",
    "HTML('''\n",
    "<style>\n",
    ".prompt {\n",
    "  display: none;\n",
    "}\n",
    "</style>\n",
    "<script>\n",
    "  function code_toggle() {\n",
    "    if (code_shown){\n",
    "      $('div.input').hide('500');\n",
    "      $('#toggleButton').val('Show Code')\n",
    "    } else {\n",
    "      $('div.input').show('500');\n",
    "      $('#toggleButton').val('Hide Code')\n",
    "    }\n",
    "    code_shown = !code_shown\n",
    "  }\n",
    "\n",
    "  $( document ).ready(function(){\n",
    "    code_shown=false;\n",
    "    $('div.input').hide()\n",
    "  });\n",
    "</script>\n",
    "<form action=\"javascript:code_toggle()\"><input type=\"submit\" id=\"toggleButton\" value=\"Show Code\"></form>''')"
   ]
  },
  {
   "cell_type": "code",
   "execution_count": 2,
   "metadata": {},
   "outputs": [
    {
     "data": {
      "text/plain": [
       "RendererRegistry.enable('notebook')"
      ]
     },
     "execution_count": 2,
     "metadata": {},
     "output_type": "execute_result"
    }
   ],
   "source": [
    "import pandas as pd\n",
    "import matplotlib.pyplot as plt\n",
    "#from wordcloud import WordCloud\n",
    "import altair as alt\n",
    "alt.renderers.enable('notebook')"
   ]
  },
  {
   "cell_type": "code",
   "execution_count": null,
   "metadata": {},
   "outputs": [],
   "source": [
    "\n",
    "\n"
   ]
  },
  {
   "cell_type": "markdown",
   "metadata": {},
   "source": [
    "# Problem Overview"
   ]
  },
  {
   "cell_type": "markdown",
   "metadata": {},
   "source": [
    "The purpose of the project, source of the data, and any pertinent information about the topic area are introduced. You may also want to include links to the code, or information about the team.\n",
    "\n",
    "Use info from proposal"
   ]
  },
  {
   "cell_type": "markdown",
   "metadata": {},
   "source": [
    "# Data Preparation"
   ]
  },
  {
   "cell_type": "markdown",
   "metadata": {},
   "source": [
    "Determine what to do about null values\n",
    "Discuss variables\n",
    "Continue discussion of data"
   ]
  },
  {
   "cell_type": "code",
   "execution_count": 7,
   "metadata": {},
   "outputs": [],
   "source": [
    "data_538 = pd.read_csv(\"./data/hate_crimes.csv\")\n",
    "occ_by_bias_motivation = pd.read_csv(\"./data/table_2_incidents_offenses_victims_and_known_offenders_by_offense_type_2016.csv\")\n",
    "off_race_by_off_type = pd.read_csv(\"./data/table_3_offenses_known_offenders_race_and_ethnicity_by_offense_type_2016.csv\")\n",
    "off_type_by_bias_motivation = pd.read_csv(\"./data/table_4_offenses_offense_type_by_bias_motivation_2016.csv\")\n",
    "off_race_by_bias_motivation = pd.read_csv(\"./data/table_5_offenses_known_offenders_race_and_ethnicity_by_bias_motivation_2016.csv\")\n",
    "off_by_state = pd.read_csv(\"./data/table_11_offenses_offense_type_by_participating_state_2016.csv\")\n",
    "locations = pd.read_csv(\"./data/table_10_incidents_bias_motivation_by_location_2016.csv\")\n",
    "\n",
    "locationsIncidents = locations.iloc[2::,0:2]\n",
    "locationsIncidents.columns = ['words', 'counts']\n",
    "locationsIncidents.head()\n",
    "tuples = [tuple(x) for x in locationsIncidents.values]\n",
    "\n",
    "#wordcloud = WordCloud().generate_from_frequencies(frequencies = tuples)\n",
    "#wordcloud = WordCloud()\n",
    "#wordcloud.generate_from_frequencies(frequencies=tuples)\n",
    "#plt.figure()\n",
    "#plt.imshow(wordcloud, interpolation=\"bilinear\")\n",
    "#p3lt.axis(\"off\")\n",
    "#plt.show()\n",
    "#for idx, row in df.iterrows()\n",
    "\n"
   ]
  },
  {
   "cell_type": "code",
   "execution_count": 42,
   "metadata": {},
   "outputs": [
    {
     "data": {
      "application/javascript": [
       "var spec = {\"config\": {\"view\": {\"width\": 400, \"height\": 300}}, \"data\": {\"name\": \"data-ca132aab0e9b9d49eba166777f758078\"}, \"mark\": \"bar\", \"encoding\": {\"x\": {\"type\": \"nominal\", \"field\": \"Offense type\"}, \"y\": {\"type\": \"quantitative\", \"field\": \"Offenses\"}}, \"$schema\": \"https://vega.github.io/schema/vega-lite/v2.6.0.json\", \"datasets\": {\"data-ca132aab0e9b9d49eba166777f758078\": [{\"Offense type\": \"Murder and nonnegligent manslaughter\", \"Incidents1\": 5, \"Offenses\": 9, \"Victims2\": 9}, {\"Offense type\": \"Rape (revised definition)4\", \"Incidents1\": 24, \"Offenses\": 24, \"Victims2\": 24}, {\"Offense type\": \"Rape (legacy definition)5\", \"Incidents1\": 0, \"Offenses\": 0, \"Victims2\": 0}, {\"Offense type\": \"Aggravated assault\", \"Incidents1\": 684, \"Offenses\": 873, \"Victims2\": 873}, {\"Offense type\": \"Simple assault\", \"Incidents1\": 1458, \"Offenses\": 1687, \"Victims2\": 1687}, {\"Offense type\": \"Intimidation\", \"Incidents1\": 1577, \"Offenses\": 2109, \"Victims2\": 2109}, {\"Offense type\": \"Other6\", \"Incidents1\": 17, \"Offenses\": 18, \"Victims2\": 18}, {\"Offense type\": \"Robbery\", \"Incidents1\": 134, \"Offenses\": 134, \"Victims2\": 163}, {\"Offense type\": \"Burglary\", \"Incidents1\": 123, \"Offenses\": 123, \"Victims2\": 138}, {\"Offense type\": \"Larceny-theft\", \"Incidents1\": 231, \"Offenses\": 231, \"Victims2\": 253}, {\"Offense type\": \"Motor vehicle theft\", \"Incidents1\": 20, \"Offenses\": 20, \"Victims2\": 21}, {\"Offense type\": \"Arson\", \"Incidents1\": 39, \"Offenses\": 39, \"Victims2\": 51}, {\"Offense type\": \"Destruction/damage/vandalism\", \"Incidents1\": 1913, \"Offenses\": 1913, \"Victims2\": 2122}]}};\n",
       "var opt = {};\n",
       "var type = \"vega-lite\";\n",
       "var id = \"d6221049-d032-483c-a685-5a2173511123\";\n",
       "\n",
       "var output_area = this;\n",
       "\n",
       "require([\"nbextensions/jupyter-vega/index\"], function(vega) {\n",
       "  var target = document.createElement(\"div\");\n",
       "  target.id = id;\n",
       "  target.className = \"vega-embed\";\n",
       "\n",
       "  var style = document.createElement(\"style\");\n",
       "  style.textContent = [\n",
       "    \".vega-embed .error p {\",\n",
       "    \"  color: firebrick;\",\n",
       "    \"  font-size: 14px;\",\n",
       "    \"}\",\n",
       "  ].join(\"\\\\n\");\n",
       "\n",
       "  // element is a jQuery wrapped DOM element inside the output area\n",
       "  // see http://ipython.readthedocs.io/en/stable/api/generated/\\\n",
       "  // IPython.display.html#IPython.display.Javascript.__init__\n",
       "  element[0].appendChild(target);\n",
       "  element[0].appendChild(style);\n",
       "\n",
       "  vega.render(\"#\" + id, spec, type, opt, output_area);\n",
       "}, function (err) {\n",
       "  if (err.requireType !== \"scripterror\") {\n",
       "    throw(err);\n",
       "  }\n",
       "});\n"
      ],
      "text/plain": [
       "<vega.vegalite.VegaLite at 0x1aae8b0f748>"
      ]
     },
     "metadata": {
      "jupyter-vega": "#d6221049-d032-483c-a685-5a2173511123"
     },
     "output_type": "display_data"
    },
    {
     "data": {
      "text/plain": []
     },
     "execution_count": 42,
     "metadata": {},
     "output_type": "execute_result"
    },
    {
     "data": {
      "image/png": "[encoded data removed]"
     },
     "metadata": {
      "jupyter-vega": "#d6221049-d032-483c-a685-5a2173511123"
     },
     "output_type": "display_data"
    }
   ],
   "source": [
    "occ_by_bias = occ_by_bias_motivation.iloc[1:14:,0:4]\n",
    "\n",
    "incidents = alt.Chart(occ_by_bias).mark_bar().encode(\n",
    "    x='Offense type',\n",
    "    y='Incidents1'\n",
    ")\n",
    "offenses = alt.Chart(occ_by_bias).mark_bar().encode(\n",
    "x='Offense type',\n",
    "y=\"Offenses\")\n",
    "offenses"
   ]
  },
  {
   "cell_type": "code",
   "execution_count": null,
   "metadata": {},
   "outputs": [],
   "source": []
  },
  {
   "cell_type": "markdown",
   "metadata": {},
   "source": [
    "# Exploratory Data Analysis"
   ]
  },
  {
   "cell_type": "markdown",
   "metadata": {},
   "source": [
    "Exploration questions - how many crimes per state\n",
    "High-level insights, trends, outliers, etc.\n"
   ]
  },
  {
   "cell_type": "code",
   "execution_count": 9,
   "metadata": {},
   "outputs": [],
   "source": [
    "# Read in CSVs\n",
    "#TODO: WHAT TO DO WITH NULL VALUES?\n",
    "hate_crimes_by_socioeconomic = pd.read_csv(\"./data/hate_crimes.csv\")\n",
    "\n",
    "\n",
    "motivation_by_num_situation = pd.read_csv(\"./data/table_1_incidents_offenses_victims_and_known_offenders_by_bias_motivation_2016.csv\").drop([\"Unnamed: 5\", \"Unnamed: 6\", \"Unnamed: 7\"], axis = 1)\n",
    "offense_type_by_situation = pd.read_csv(\"./data/table_2_incidents_offenses_victims_and_known_offenders_by_offense_type_2016.csv\").drop([\"Unnamed: 5\", \"Unnamed: 6\"], axis = 1)\n",
    "offense_type_by_offender_race = pd.read_csv(\"./data/table_3_offenses_known_offenders_race_and_ethnicity_by_offense_type_2016.csv\")\n",
    "motivation_by_crime_type = pd.read_csv(\"./data/table_4_offenses_offense_type_by_bias_motivation_2016.csv\")\n",
    "motivation_by_offender_race = pd.read_csv(\"./data/table_5_offenses_known_offenders_race_and_ethnicity_by_bias_motivation_2016.csv\").drop([\"Unnamed: 14\", \"Unnamed: 15\", \" \"], axis = 1)\n",
    "location_by_motivation = pd.read_csv(\"./data/table_10_incidents_bias_motivation_by_location_2016.csv\").drop([\"Unnamed: 9\", \"Unnamed: 10\", \"Unnamed: 11\", \"Unnamed: 12\"], axis = 1)\n",
    "state_by_crime_type = pd.read_csv(\"./data/table_11_offenses_offense_type_by_participating_state_2016.csv\")\n",
    "\n"
   ]
  },
  {
   "cell_type": "code",
   "execution_count": null,
   "metadata": {},
   "outputs": [],
   "source": []
  },
  {
   "cell_type": "markdown",
   "metadata": {},
   "source": [
    "# Statistical Modeling"
   ]
  },
  {
   "cell_type": "markdown",
   "metadata": {},
   "source": [
    "Null Hypothesis\n"
   ]
  },
  {
   "cell_type": "markdown",
   "metadata": {},
   "source": []
  },
  {
   "cell_type": "markdown",
   "metadata": {},
   "source": []
  },
  {
   "cell_type": "markdown",
   "metadata": {},
   "source": []
  }
 ],
 "metadata": {
  "kernelspec": {
   "display_name": "Python 3",
   "language": "python",
   "name": "python3"
  },
  "language_info": {
   "codemirror_mode": {
    "name": "ipython",
    "version": 3
   },
   "file_extension": ".py",
   "mimetype": "text/x-python",
   "name": "python",
   "nbconvert_exporter": "python",
   "pygments_lexer": "ipython3",
   "version": "3.7.0"
  }
 },
 "nbformat": 4,
 "nbformat_minor": 2
}
