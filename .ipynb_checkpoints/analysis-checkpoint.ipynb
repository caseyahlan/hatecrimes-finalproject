{
 "cells": [
  {
   "cell_type": "code",
   "execution_count": 55,
   "metadata": {},
   "outputs": [
    {
     "data": {
      "text/html": [
       "\n",
       "<style>\n",
       ".prompt {\n",
       "  display: none;\n",
       "}\n",
       "</style>\n",
       "<script>\n",
       "  function code_toggle() {\n",
       "    if (code_shown){\n",
       "      $('div.input').hide('500');\n",
       "      $('#toggleButton').val('Show Code')\n",
       "    } else {\n",
       "      $('div.input').show('500');\n",
       "      $('#toggleButton').val('Hide Code')\n",
       "    }\n",
       "    code_shown = !code_shown\n",
       "  }\n",
       "\n",
       "  $( document ).ready(function(){\n",
       "    code_shown=false;\n",
       "    $('div.input').hide()\n",
       "  });\n",
       "</script>\n",
       "<form action=\"javascript:code_toggle()\"><input type=\"submit\" id=\"toggleButton\" value=\"Show Code\"></form>"
      ],
      "text/plain": [
       "<IPython.core.display.HTML object>"
      ]
     },
     "execution_count": 55,
     "metadata": {},
     "output_type": "execute_result"
    }
   ],
   "source": [
    "from IPython.display import HTML\n",
    "HTML('''\n",
    "<style>\n",
    ".prompt {\n",
    "  display: none;\n",
    "}\n",
    "</style>\n",
    "<script>\n",
    "  function code_toggle() {\n",
    "    if (code_shown){\n",
    "      $('div.input').hide('500');\n",
    "      $('#toggleButton').val('Show Code')\n",
    "    } else {\n",
    "      $('div.input').show('500');\n",
    "      $('#toggleButton').val('Hide Code')\n",
    "    }\n",
    "    code_shown = !code_shown\n",
    "  }\n",
    "\n",
    "  $( document ).ready(function(){\n",
    "    code_shown=false;\n",
    "    $('div.input').hide()\n",
    "  });\n",
    "</script>\n",
    "<form action=\"javascript:code_toggle()\"><input type=\"submit\" id=\"toggleButton\" value=\"Show Code\"></form>''')"
   ]
  },
  {
   "cell_type": "code",
   "execution_count": 90,
   "metadata": {},
   "outputs": [
    {
     "data": {
      "text/plain": [
       "RendererRegistry.enable('default')"
      ]
     },
     "execution_count": 90,
     "metadata": {},
     "output_type": "execute_result"
    }
   ],
   "source": [
    "import pandas as pd\n",
    "import matplotlib.pyplot as plt\n",
    "from wordcloud import WordCloud\n",
    "import altair as alt\n",
    "alt.renderers.enable('default')\n"
   ]
  },
  {
   "cell_type": "code",
   "execution_count": null,
   "metadata": {},
   "outputs": [],
   "source": [
    "\n",
    "\n"
   ]
  },
  {
   "cell_type": "markdown",
   "metadata": {},
   "source": [
    "# Problem Overview"
   ]
  },
  {
   "cell_type": "markdown",
   "metadata": {},
   "source": [
    "The purpose of the project, source of the data, and any pertinent information about the topic area are introduced. You may also want to include links to the code, or information about the team.\n",
    "\n",
    "Use info from proposal"
   ]
  },
  {
   "cell_type": "markdown",
   "metadata": {},
   "source": [
    "# Data Preparation"
   ]
  },
  {
   "cell_type": "markdown",
   "metadata": {},
   "source": [
    "Determine what to do about null values\n",
    "Discuss variables\n",
    "Continue discussion of data"
   ]
  },
  {
   "cell_type": "code",
   "execution_count": 84,
   "metadata": {},
   "outputs": [],
   "source": [
    "data_538 = pd.read_csv(\"./data/hate_crimes.csv\")\n",
    "occ_by_bias_motivation = pd.read_csv(\"./data/table_2_incidents_offenses_victims_and_known_offenders_by_offense_type_2016.csv\")\n",
    "off_race_by_off_type = pd.read_csv(\"./data/table_3_offenses_known_offenders_race_and_ethnicity_by_offense_type_2016.csv\")\n",
    "off_type_by_bias_motivation = pd.read_csv(\"./data/table_4_offenses_offense_type_by_bias_motivation_2016.csv\")\n",
    "off_race_by_bias_motivation = pd.read_csv(\"./data/table_5_offenses_known_offenders_race_and_ethnicity_by_bias_motivation_2016.csv\")\n",
    "off_by_state = pd.read_csv(\"./data/table_11_offenses_offense_type_by_participating_state_2016.csv\")\n",
    "locations = pd.read_csv(\"./data/table_10_incidents_bias_motivation_by_location_2016.csv\")\n",
    "\n",
    "locationsIncidents = locations.iloc[2::,0:2]\n",
    "locationsIncidents.columns = ['words', 'counts']\n",
    "locationsIncidents.head()\n",
    "tuples = [tuple(x) for x in locationsIncidents.values]\n",
    "\n",
    "#wordcloud = WordCloud().generate_from_frequencies(frequencies = tuples)\n",
    "#wordcloud = WordCloud()\n",
    "#wordcloud.generate_from_frequencies(frequencies=tuples)\n",
    "#plt.figure()\n",
    "#plt.imshow(wordcloud, interpolation=\"bilinear\")\n",
    "#p3lt.axis(\"off\")\n",
    "#plt.show()\n"
   ]
  },
  {
   "cell_type": "code",
   "execution_count": 91,
   "metadata": {},
   "outputs": [
    {
     "data": {
      "application/vnd.vegalite.v2+json": {
       "$schema": "https://vega.github.io/schema/vega-lite/v2.6.0.json",
       "config": {
        "view": {
         "height": 300,
         "width": 400
        }
       },
       "datasets": {
        "data-6766413cc0636e775f6216fcbcd736b0": [
         {
          "Incidents1": "6,121",
          "Known\noffenders3": "5,770",
          "Offense type": "Total",
          "Offenses": "7,321",
          "Unnamed: 5": null,
          "Unnamed: 6": null,
          "Victims2": "7,615"
         },
         {
          "Incidents1": "3,765",
          "Known\noffenders3": "4,353",
          "Offense type": "Crimes against persons:",
          "Offenses": "4,720",
          "Unnamed: 5": null,
          "Unnamed: 6": null,
          "Victims2": "4,720"
         },
         {
          "Incidents1": "5",
          "Known\noffenders3": "9",
          "Offense type": "Murder and nonnegligent manslaughter",
          "Offenses": "9",
          "Unnamed: 5": null,
          "Unnamed: 6": null,
          "Victims2": "9"
         },
         {
          "Incidents1": "24",
          "Known\noffenders3": "29",
          "Offense type": "Rape (revised definition)4",
          "Offenses": "24",
          "Unnamed: 5": null,
          "Unnamed: 6": null,
          "Victims2": "24"
         },
         {
          "Incidents1": "0",
          "Known\noffenders3": "0",
          "Offense type": "Rape (legacy definition)5",
          "Offenses": "0",
          "Unnamed: 5": null,
          "Unnamed: 6": null,
          "Victims2": "0"
         },
         {
          "Incidents1": "684",
          "Known\noffenders3": "1,031",
          "Offense type": "Aggravated assault",
          "Offenses": "873",
          "Unnamed: 5": null,
          "Unnamed: 6": null,
          "Victims2": "873"
         },
         {
          "Incidents1": "1,458",
          "Known\noffenders3": "1,857",
          "Offense type": "Simple assault",
          "Offenses": "1,687",
          "Unnamed: 5": null,
          "Unnamed: 6": null,
          "Victims2": "1,687"
         },
         {
          "Incidents1": "1,577",
          "Known\noffenders3": "1,409",
          "Offense type": "Intimidation",
          "Offenses": "2,109",
          "Unnamed: 5": null,
          "Unnamed: 6": " ",
          "Victims2": "2,109"
         },
         {
          "Incidents1": "17",
          "Known\noffenders3": "18",
          "Offense type": "Other6",
          "Offenses": "18",
          "Unnamed: 5": null,
          "Unnamed: 6": null,
          "Victims2": "18"
         },
         {
          "Incidents1": "2,519",
          "Known\noffenders3": "1,618",
          "Offense type": "Crimes against property:",
          "Offenses": "2,519",
          "Unnamed: 5": null,
          "Unnamed: 6": null,
          "Victims2": "2,813"
         },
         {
          "Incidents1": "134",
          "Known\noffenders3": "249",
          "Offense type": "Robbery",
          "Offenses": "134",
          "Unnamed: 5": null,
          "Unnamed: 6": null,
          "Victims2": "163"
         },
         {
          "Incidents1": "123",
          "Known\noffenders3": "87",
          "Offense type": "Burglary",
          "Offenses": "123",
          "Unnamed: 5": null,
          "Unnamed: 6": null,
          "Victims2": "138"
         },
         {
          "Incidents1": "231",
          "Known\noffenders3": "173",
          "Offense type": "Larceny-theft",
          "Offenses": "231",
          "Unnamed: 5": null,
          "Unnamed: 6": null,
          "Victims2": "253"
         },
         {
          "Incidents1": "20",
          "Known\noffenders3": "14",
          "Offense type": "Motor vehicle theft",
          "Offenses": "20",
          "Unnamed: 5": null,
          "Unnamed: 6": null,
          "Victims2": "21"
         },
         {
          "Incidents1": "39",
          "Known\noffenders3": "33",
          "Offense type": "Arson",
          "Offenses": "39",
          "Unnamed: 5": null,
          "Unnamed: 6": null,
          "Victims2": "51"
         },
         {
          "Incidents1": "1,913",
          "Known\noffenders3": "1,015",
          "Offense type": "Destruction/damage/vandalism",
          "Offenses": "1,913",
          "Unnamed: 5": null,
          "Unnamed: 6": null,
          "Victims2": "2,122"
         },
         {
          "Incidents1": "59",
          "Known\noffenders3": "47",
          "Offense type": "Other6",
          "Offenses": "59",
          "Unnamed: 5": null,
          "Unnamed: 6": null,
          "Victims2": "65"
         },
         {
          "Incidents1": "82",
          "Known\noffenders3": "97",
          "Offense type": "Crimes against society6",
          "Offenses": "82",
          "Unnamed: 5": null,
          "Unnamed: 6": null,
          "Victims2": "82"
         },
         {
          "Incidents1": null,
          "Known\noffenders3": null,
          "Offense type": null,
          "Offenses": null,
          "Unnamed: 5": null,
          "Unnamed: 6": null,
          "Victims2": null
         },
         {
          "Incidents1": null,
          "Known\noffenders3": null,
          "Offense type": null,
          "Offenses": null,
          "Unnamed: 5": null,
          "Unnamed: 6": null,
          "Victims2": null
         },
         {
          "Incidents1": null,
          "Known\noffenders3": null,
          "Offense type": null,
          "Offenses": null,
          "Unnamed: 5": null,
          "Unnamed: 6": null,
          "Victims2": null
         },
         {
          "Incidents1": null,
          "Known\noffenders3": null,
          "Offense type": null,
          "Offenses": null,
          "Unnamed: 5": null,
          "Unnamed: 6": null,
          "Victims2": null
         },
         {
          "Incidents1": null,
          "Known\noffenders3": null,
          "Offense type": null,
          "Offenses": null,
          "Unnamed: 5": null,
          "Unnamed: 6": null,
          "Victims2": null
         },
         {
          "Incidents1": null,
          "Known\noffenders3": null,
          "Offense type": null,
          "Offenses": null,
          "Unnamed: 5": null,
          "Unnamed: 6": null,
          "Victims2": null
         }
        ]
       },
       "layer": [
        {
         "data": {
          "name": "data-6766413cc0636e775f6216fcbcd736b0"
         },
         "encoding": {
          "x": {
           "field": "Offense type",
           "type": "nominal"
          },
          "y": {
           "field": "Incidents1",
           "type": "nominal"
          }
         },
         "mark": "bar"
        },
        {
         "data": {
          "name": "data-6766413cc0636e775f6216fcbcd736b0"
         },
         "encoding": {
          "x": {
           "field": "Offense type",
           "type": "nominal"
          },
          "y": {
           "field": "Offenses",
           "type": "nominal"
          }
         },
         "mark": "bar"
        }
       ]
      },
      "text/plain": [
       "<VegaLite 2 object>\n",
       "\n",
       "If you see this message, it means the renderer has not been properly enabled\n",
       "for the frontend that you are using. For more information, see\n",
       "https://altair-viz.github.io/user_guide/troubleshooting.html\n"
      ]
     },
     "execution_count": 91,
     "metadata": {},
     "output_type": "execute_result"
    }
   ],
   "source": [
    "occ_by_bias_motivation.head()\n",
    "incidents = alt.Chart(occ_by_bias_motivation).mark_bar().encode(\n",
    "    x='Offense type',\n",
    "    y='Incidents1'\n",
    ")\n",
    "offenses = alt.Chart(occ_by_bias_motivation).mark_bar().encode(\n",
    "x='Offense type',\n",
    "y=\"Offenses\")\n",
    "\n",
    "incidents+offenses"
   ]
  },
  {
   "cell_type": "code",
   "execution_count": null,
   "metadata": {},
   "outputs": [],
   "source": []
  },
  {
   "cell_type": "markdown",
   "metadata": {},
   "source": [
    "# Exploratory Data Analysis"
   ]
  },
  {
   "cell_type": "markdown",
   "metadata": {},
   "source": [
    "Exploration questions - how many crimes per state\n",
    "High-level insights, trends, outliers, etc.\n"
   ]
  },
  {
   "cell_type": "markdown",
   "metadata": {},
   "source": [
    "# Statistical Modeling"
   ]
  },
  {
   "cell_type": "markdown",
   "metadata": {},
   "source": [
    "Null Hypothesis\n"
   ]
  },
  {
   "cell_type": "markdown",
   "metadata": {},
   "source": []
  },
  {
   "cell_type": "markdown",
   "metadata": {},
   "source": []
  },
  {
   "cell_type": "markdown",
   "metadata": {},
   "source": []
  }
 ],
 "metadata": {
  "kernelspec": {
   "display_name": "Python 3",
   "language": "python",
   "name": "python3"
  },
  "language_info": {
   "codemirror_mode": {
    "name": "ipython",
    "version": 3
   },
   "file_extension": ".py",
   "mimetype": "text/x-python",
   "name": "python",
   "nbconvert_exporter": "python",
   "pygments_lexer": "ipython3",
   "version": "3.6.5"
  }
 },
 "nbformat": 4,
 "nbformat_minor": 2
}
