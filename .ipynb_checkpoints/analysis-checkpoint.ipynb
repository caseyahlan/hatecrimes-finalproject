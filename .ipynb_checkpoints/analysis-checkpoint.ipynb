{
 "cells": [
  {
   "cell_type": "code",
<<<<<<< HEAD
   "execution_count": 55,
   "metadata": {},
   "outputs": [
    {
     "data": {
      "text/html": [
       "\n",
       "<style>\n",
       ".prompt {\n",
       "  display: none;\n",
       "}\n",
       "</style>\n",
       "<script>\n",
       "  function code_toggle() {\n",
       "    if (code_shown){\n",
       "      $('div.input').hide('500');\n",
       "      $('#toggleButton').val('Show Code')\n",
       "    } else {\n",
       "      $('div.input').show('500');\n",
       "      $('#toggleButton').val('Hide Code')\n",
       "    }\n",
       "    code_shown = !code_shown\n",
       "  }\n",
       "\n",
       "  $( document ).ready(function(){\n",
       "    code_shown=false;\n",
       "    $('div.input').hide()\n",
       "  });\n",
       "</script>\n",
       "<form action=\"javascript:code_toggle()\"><input type=\"submit\" id=\"toggleButton\" value=\"Show Code\"></form>"
      ],
      "text/plain": [
       "<IPython.core.display.HTML object>"
      ]
     },
     "execution_count": 55,
     "metadata": {},
     "output_type": "execute_result"
    }
   ],
   "source": [
    "from IPython.display import HTML\n",
    "HTML('''\n",
    "<style>\n",
    ".prompt {\n",
    "  display: none;\n",
    "}\n",
    "</style>\n",
    "<script>\n",
    "  function code_toggle() {\n",
    "    if (code_shown){\n",
    "      $('div.input').hide('500');\n",
    "      $('#toggleButton').val('Show Code')\n",
    "    } else {\n",
    "      $('div.input').show('500');\n",
    "      $('#toggleButton').val('Hide Code')\n",
    "    }\n",
    "    code_shown = !code_shown\n",
    "  }\n",
    "\n",
    "  $( document ).ready(function(){\n",
    "    code_shown=false;\n",
    "    $('div.input').hide()\n",
    "  });\n",
    "</script>\n",
    "<form action=\"javascript:code_toggle()\"><input type=\"submit\" id=\"toggleButton\" value=\"Show Code\"></form>''')"
   ]
  },
  {
   "cell_type": "code",
   "execution_count": 90,
   "metadata": {},
   "outputs": [
    {
     "data": {
      "text/plain": [
       "RendererRegistry.enable('default')"
      ]
     },
     "execution_count": 90,
     "metadata": {},
     "output_type": "execute_result"
=======
   "execution_count": 49,
   "metadata": {},
   "outputs": [
    {
     "ename": "AttributeError",
     "evalue": "'list' object has no attribute 'items'",
     "output_type": "error",
     "traceback": [
      "\u001b[1;31m---------------------------------------------------------------------------\u001b[0m",
      "\u001b[1;31mAttributeError\u001b[0m                            Traceback (most recent call last)",
      "\u001b[1;32m<ipython-input-49-948441d96a74>\u001b[0m in \u001b[0;36m<module>\u001b[1;34m()\u001b[0m\n\u001b[0;32m     11\u001b[0m \u001b[0mwordcloud\u001b[0m \u001b[1;33m=\u001b[0m \u001b[0mWordCloud\u001b[0m\u001b[1;33m(\u001b[0m\u001b[1;33m)\u001b[0m\u001b[1;33m\u001b[0m\u001b[0m\n\u001b[0;32m     12\u001b[0m \u001b[1;33m\u001b[0m\u001b[0m\n\u001b[1;32m---> 13\u001b[1;33m \u001b[0mtuples\u001b[0m\u001b[1;33m.\u001b[0m\u001b[0mitems\u001b[0m\u001b[1;33m(\u001b[0m\u001b[1;33m)\u001b[0m\u001b[1;33m\u001b[0m\u001b[0m\n\u001b[0m",
      "\u001b[1;31mAttributeError\u001b[0m: 'list' object has no attribute 'items'"
     ]
>>>>>>> a0c203bb630795a914d4a0bef9a539d62f4565c8
    }
   ],
   "source": [
    "import pandas as pd\n",
    "import matplotlib.pyplot as plt\n",
    "from wordcloud import WordCloud\n",
    "import altair as alt\n",
    "alt.renderers.enable('default')\n"
   ]
  },
  {
   "cell_type": "code",
   "execution_count": null,
   "metadata": {},
   "outputs": [],
   "source": [
    "\n",
<<<<<<< HEAD
=======
    "\n",
    "locations = pd.read_csv(\"./data/table_10_incidents_bias_motivation_by_location_2016.csv\")\n",
    "\n",
    "locationsIncidents = locations.iloc[2::,0:2]\n",
    "locationsIncidents.columns = ['words', 'counts']\n",
    "tuples = [tuple(x) for x in locationsIncidents.values]\n",
    "wordcloud = WordCloud()\n"
   ]
  },
  {
   "cell_type": "code",
   "execution_count": 50,
   "metadata": {},
   "outputs": [
    {
     "ename": "AttributeError",
     "evalue": "'list' object has no attribute 'items'",
     "output_type": "error",
     "traceback": [
      "\u001b[1;31m---------------------------------------------------------------------------\u001b[0m",
      "\u001b[1;31mAttributeError\u001b[0m                            Traceback (most recent call last)",
      "\u001b[1;32m<ipython-input-50-3f9f07d3fd85>\u001b[0m in \u001b[0;36m<module>\u001b[1;34m()\u001b[0m\n\u001b[0;32m      1\u001b[0m \u001b[0mwordcloud\u001b[0m \u001b[1;33m=\u001b[0m \u001b[0mWordCloud\u001b[0m\u001b[1;33m(\u001b[0m\u001b[1;33m)\u001b[0m\u001b[1;33m\u001b[0m\u001b[0m\n\u001b[0;32m      2\u001b[0m \u001b[1;33m\u001b[0m\u001b[0m\n\u001b[1;32m----> 3\u001b[1;33m \u001b[0mwordcloud\u001b[0m\u001b[1;33m.\u001b[0m\u001b[0mgenerate_from_frequencies\u001b[0m\u001b[1;33m(\u001b[0m\u001b[0mfrequencies\u001b[0m\u001b[1;33m=\u001b[0m\u001b[0mtuples\u001b[0m\u001b[1;33m)\u001b[0m\u001b[1;33m\u001b[0m\u001b[0m\n\u001b[0m\u001b[0;32m      4\u001b[0m \u001b[0mplt\u001b[0m\u001b[1;33m.\u001b[0m\u001b[0mfigure\u001b[0m\u001b[1;33m(\u001b[0m\u001b[0mfigsize\u001b[0m\u001b[1;33m=\u001b[0m\u001b[1;33m(\u001b[0m\u001b[1;36m10\u001b[0m\u001b[1;33m,\u001b[0m \u001b[1;36m10\u001b[0m\u001b[1;33m)\u001b[0m\u001b[1;33m)\u001b[0m\u001b[1;33m\u001b[0m\u001b[0m\n\u001b[0;32m      5\u001b[0m \u001b[0mplt\u001b[0m\u001b[1;33m.\u001b[0m\u001b[0mimshow\u001b[0m\u001b[1;33m(\u001b[0m\u001b[0mwordcloud\u001b[0m\u001b[1;33m,\u001b[0m \u001b[0minterpolation\u001b[0m\u001b[1;33m=\u001b[0m\u001b[1;34m\"bilinear\"\u001b[0m\u001b[1;33m)\u001b[0m\u001b[1;33m\u001b[0m\u001b[0m\n",
      "\u001b[1;32m~\\Anaconda3\\lib\\site-packages\\wordcloud\\wordcloud.py\u001b[0m in \u001b[0;36mgenerate_from_frequencies\u001b[1;34m(self, frequencies, max_font_size)\u001b[0m\n\u001b[0;32m    378\u001b[0m         \"\"\"\n\u001b[0;32m    379\u001b[0m         \u001b[1;31m# make sure frequencies are sorted and normalized\u001b[0m\u001b[1;33m\u001b[0m\u001b[1;33m\u001b[0m\u001b[0m\n\u001b[1;32m--> 380\u001b[1;33m         \u001b[0mfrequencies\u001b[0m \u001b[1;33m=\u001b[0m \u001b[0msorted\u001b[0m\u001b[1;33m(\u001b[0m\u001b[0mfrequencies\u001b[0m\u001b[1;33m.\u001b[0m\u001b[0mitems\u001b[0m\u001b[1;33m(\u001b[0m\u001b[1;33m)\u001b[0m\u001b[1;33m,\u001b[0m \u001b[0mkey\u001b[0m\u001b[1;33m=\u001b[0m\u001b[0mitemgetter\u001b[0m\u001b[1;33m(\u001b[0m\u001b[1;36m1\u001b[0m\u001b[1;33m)\u001b[0m\u001b[1;33m,\u001b[0m \u001b[0mreverse\u001b[0m\u001b[1;33m=\u001b[0m\u001b[1;32mTrue\u001b[0m\u001b[1;33m)\u001b[0m\u001b[1;33m\u001b[0m\u001b[0m\n\u001b[0m\u001b[0;32m    381\u001b[0m         \u001b[1;32mif\u001b[0m \u001b[0mlen\u001b[0m\u001b[1;33m(\u001b[0m\u001b[0mfrequencies\u001b[0m\u001b[1;33m)\u001b[0m \u001b[1;33m<=\u001b[0m \u001b[1;36m0\u001b[0m\u001b[1;33m:\u001b[0m\u001b[1;33m\u001b[0m\u001b[0m\n\u001b[0;32m    382\u001b[0m             raise ValueError(\"We need at least 1 word to plot a word cloud, \"\n",
      "\u001b[1;31mAttributeError\u001b[0m: 'list' object has no attribute 'items'"
     ]
    }
   ],
   "source": [
    "wordcloud = WordCloud()\n",
    "\n",
    "wordcloud.generate_from_frequencies(frequencies=tuples)\n",
    "plt.figure(figsize=(10, 10))\n",
    "plt.imshow(wordcloud, interpolation=\"bilinear\")\n",
    "plt.axis(\"off\")\n",
    "plt.show()\n",
>>>>>>> a0c203bb630795a914d4a0bef9a539d62f4565c8
    "\n"
   ]
  },
  {
   "cell_type": "markdown",
   "metadata": {},
   "source": [
    "# Problem Overview"
   ]
  },
  {
   "cell_type": "markdown",
   "metadata": {},
   "source": [
    "The purpose of the project, source of the data, and any pertinent information about the topic area are introduced. You may also want to include links to the code, or information about the team.\n",
    "\n",
    "Use info from proposal"
   ]
  },
  {
   "cell_type": "markdown",
   "metadata": {},
   "source": [
    "# Data Preparation"
   ]
  },
  {
   "cell_type": "markdown",
   "metadata": {},
   "source": [
    "Determine what to do about null values\n",
    "Discuss variables\n",
    "Continue discussion of data"
   ]
  },
  {
   "cell_type": "code",
   "execution_count": 84,
   "metadata": {},
   "outputs": [],
   "source": [
    "data_538 = pd.read_csv(\"./data/hate_crimes.csv\")\n",
    "occ_by_bias_motivation = pd.read_csv(\"./data/table_2_incidents_offenses_victims_and_known_offenders_by_offense_type_2016.csv\")\n",
    "off_race_by_off_type = pd.read_csv(\"./data/table_3_offenses_known_offenders_race_and_ethnicity_by_offense_type_2016.csv\")\n",
    "off_type_by_bias_motivation = pd.read_csv(\"./data/table_4_offenses_offense_type_by_bias_motivation_2016.csv\")\n",
    "off_race_by_bias_motivation = pd.read_csv(\"./data/table_5_offenses_known_offenders_race_and_ethnicity_by_bias_motivation_2016.csv\")\n",
    "off_by_state = pd.read_csv(\"./data/table_11_offenses_offense_type_by_participating_state_2016.csv\")\n",
    "locations = pd.read_csv(\"./data/table_10_incidents_bias_motivation_by_location_2016.csv\")\n",
    "\n",
    "locationsIncidents = locations.iloc[2::,0:2]\n",
    "locationsIncidents.columns = ['words', 'counts']\n",
    "locationsIncidents.head()\n",
    "tuples = [tuple(x) for x in locationsIncidents.values]\n",
    "\n",
    "#wordcloud = WordCloud().generate_from_frequencies(frequencies = tuples)\n",
    "#wordcloud = WordCloud()\n",
    "#wordcloud.generate_from_frequencies(frequencies=tuples)\n",
    "#plt.figure()\n",
    "#plt.imshow(wordcloud, interpolation=\"bilinear\")\n",
    "#p3lt.axis(\"off\")\n",
    "#plt.show()\n"
   ]
  },
  {
   "cell_type": "code",
   "execution_count": 91,
   "metadata": {},
   "outputs": [
    {
     "data": {
      "application/vnd.vegalite.v2+json": {
       "$schema": "https://vega.github.io/schema/vega-lite/v2.6.0.json",
       "config": {
        "view": {
         "height": 300,
         "width": 400
        }
       },
       "datasets": {
        "data-6766413cc0636e775f6216fcbcd736b0": [
         {
          "Incidents1": "6,121",
          "Known\noffenders3": "5,770",
          "Offense type": "Total",
          "Offenses": "7,321",
          "Unnamed: 5": null,
          "Unnamed: 6": null,
          "Victims2": "7,615"
         },
         {
          "Incidents1": "3,765",
          "Known\noffenders3": "4,353",
          "Offense type": "Crimes against persons:",
          "Offenses": "4,720",
          "Unnamed: 5": null,
          "Unnamed: 6": null,
          "Victims2": "4,720"
         },
         {
          "Incidents1": "5",
          "Known\noffenders3": "9",
          "Offense type": "Murder and nonnegligent manslaughter",
          "Offenses": "9",
          "Unnamed: 5": null,
          "Unnamed: 6": null,
          "Victims2": "9"
         },
         {
          "Incidents1": "24",
          "Known\noffenders3": "29",
          "Offense type": "Rape (revised definition)4",
          "Offenses": "24",
          "Unnamed: 5": null,
          "Unnamed: 6": null,
          "Victims2": "24"
         },
         {
          "Incidents1": "0",
          "Known\noffenders3": "0",
          "Offense type": "Rape (legacy definition)5",
          "Offenses": "0",
          "Unnamed: 5": null,
          "Unnamed: 6": null,
          "Victims2": "0"
         },
         {
          "Incidents1": "684",
          "Known\noffenders3": "1,031",
          "Offense type": "Aggravated assault",
          "Offenses": "873",
          "Unnamed: 5": null,
          "Unnamed: 6": null,
          "Victims2": "873"
         },
         {
          "Incidents1": "1,458",
          "Known\noffenders3": "1,857",
          "Offense type": "Simple assault",
          "Offenses": "1,687",
          "Unnamed: 5": null,
          "Unnamed: 6": null,
          "Victims2": "1,687"
         },
         {
          "Incidents1": "1,577",
          "Known\noffenders3": "1,409",
          "Offense type": "Intimidation",
          "Offenses": "2,109",
          "Unnamed: 5": null,
          "Unnamed: 6": " ",
          "Victims2": "2,109"
         },
         {
          "Incidents1": "17",
          "Known\noffenders3": "18",
          "Offense type": "Other6",
          "Offenses": "18",
          "Unnamed: 5": null,
          "Unnamed: 6": null,
          "Victims2": "18"
         },
         {
          "Incidents1": "2,519",
          "Known\noffenders3": "1,618",
          "Offense type": "Crimes against property:",
          "Offenses": "2,519",
          "Unnamed: 5": null,
          "Unnamed: 6": null,
          "Victims2": "2,813"
         },
         {
          "Incidents1": "134",
          "Known\noffenders3": "249",
          "Offense type": "Robbery",
          "Offenses": "134",
          "Unnamed: 5": null,
          "Unnamed: 6": null,
          "Victims2": "163"
         },
         {
          "Incidents1": "123",
          "Known\noffenders3": "87",
          "Offense type": "Burglary",
          "Offenses": "123",
          "Unnamed: 5": null,
          "Unnamed: 6": null,
          "Victims2": "138"
         },
         {
          "Incidents1": "231",
          "Known\noffenders3": "173",
          "Offense type": "Larceny-theft",
          "Offenses": "231",
          "Unnamed: 5": null,
          "Unnamed: 6": null,
          "Victims2": "253"
         },
         {
          "Incidents1": "20",
          "Known\noffenders3": "14",
          "Offense type": "Motor vehicle theft",
          "Offenses": "20",
          "Unnamed: 5": null,
          "Unnamed: 6": null,
          "Victims2": "21"
         },
         {
          "Incidents1": "39",
          "Known\noffenders3": "33",
          "Offense type": "Arson",
          "Offenses": "39",
          "Unnamed: 5": null,
          "Unnamed: 6": null,
          "Victims2": "51"
         },
         {
          "Incidents1": "1,913",
          "Known\noffenders3": "1,015",
          "Offense type": "Destruction/damage/vandalism",
          "Offenses": "1,913",
          "Unnamed: 5": null,
          "Unnamed: 6": null,
          "Victims2": "2,122"
         },
         {
          "Incidents1": "59",
          "Known\noffenders3": "47",
          "Offense type": "Other6",
          "Offenses": "59",
          "Unnamed: 5": null,
          "Unnamed: 6": null,
          "Victims2": "65"
         },
         {
          "Incidents1": "82",
          "Known\noffenders3": "97",
          "Offense type": "Crimes against society6",
          "Offenses": "82",
          "Unnamed: 5": null,
          "Unnamed: 6": null,
          "Victims2": "82"
         },
         {
          "Incidents1": null,
          "Known\noffenders3": null,
          "Offense type": null,
          "Offenses": null,
          "Unnamed: 5": null,
          "Unnamed: 6": null,
          "Victims2": null
         },
         {
          "Incidents1": null,
          "Known\noffenders3": null,
          "Offense type": null,
          "Offenses": null,
          "Unnamed: 5": null,
          "Unnamed: 6": null,
          "Victims2": null
         },
         {
          "Incidents1": null,
          "Known\noffenders3": null,
          "Offense type": null,
          "Offenses": null,
          "Unnamed: 5": null,
          "Unnamed: 6": null,
          "Victims2": null
         },
         {
          "Incidents1": null,
          "Known\noffenders3": null,
          "Offense type": null,
          "Offenses": null,
          "Unnamed: 5": null,
          "Unnamed: 6": null,
          "Victims2": null
         },
         {
          "Incidents1": null,
          "Known\noffenders3": null,
          "Offense type": null,
          "Offenses": null,
          "Unnamed: 5": null,
          "Unnamed: 6": null,
          "Victims2": null
         },
         {
          "Incidents1": null,
          "Known\noffenders3": null,
          "Offense type": null,
          "Offenses": null,
          "Unnamed: 5": null,
          "Unnamed: 6": null,
          "Victims2": null
         }
        ]
       },
       "layer": [
        {
         "data": {
          "name": "data-6766413cc0636e775f6216fcbcd736b0"
         },
         "encoding": {
          "x": {
           "field": "Offense type",
           "type": "nominal"
          },
          "y": {
           "field": "Incidents1",
           "type": "nominal"
          }
         },
         "mark": "bar"
        },
        {
         "data": {
          "name": "data-6766413cc0636e775f6216fcbcd736b0"
         },
         "encoding": {
          "x": {
           "field": "Offense type",
           "type": "nominal"
          },
          "y": {
           "field": "Offenses",
           "type": "nominal"
          }
         },
         "mark": "bar"
        }
       ]
      },
      "text/plain": [
       "<VegaLite 2 object>\n",
       "\n",
       "If you see this message, it means the renderer has not been properly enabled\n",
       "for the frontend that you are using. For more information, see\n",
       "https://altair-viz.github.io/user_guide/troubleshooting.html\n"
      ]
     },
     "execution_count": 91,
     "metadata": {},
     "output_type": "execute_result"
    }
   ],
   "source": [
    "occ_by_bias_motivation.head()\n",
    "incidents = alt.Chart(occ_by_bias_motivation).mark_bar().encode(\n",
    "    x='Offense type',\n",
    "    y='Incidents1'\n",
    ")\n",
    "offenses = alt.Chart(occ_by_bias_motivation).mark_bar().encode(\n",
    "x='Offense type',\n",
    "y=\"Offenses\")\n",
    "\n",
    "incidents+offenses"
   ]
  },
  {
   "cell_type": "code",
   "execution_count": null,
   "metadata": {},
   "outputs": [],
   "source": []
  },
  {
   "cell_type": "markdown",
   "metadata": {},
   "source": [
    "# Exploratory Data Analysis"
   ]
  },
  {
   "cell_type": "markdown",
   "metadata": {},
   "source": [
    "Exploration questions - how many crimes per state\n",
    "High-level insights, trends, outliers, etc.\n"
   ]
  },
  {
   "cell_type": "code",
   "execution_count": 64,
   "metadata": {},
   "outputs": [],
   "source": [
    "# Read in CSVs\n",
    "#TODO: WHAT TO DO WITH NULL VALUES?\n",
    "hate_crimes_by_socioeconomic = pd.read_csv(\"./data/hate_crimes.csv\")\n",
    "\n",
    "\n",
    "motivation_by_num_situation = pd.read_csv(\"./data/table_1_incidents_offenses_victims_and_known_offenders_by_bias_motivation_2016.csv\").drop([\"Unnamed: 5\", \"Unnamed: 6\", \"Unnamed: 7\"], axis = 1)\n",
    "offense_type_by_situation = pd.read_csv(\"./data/table_2_incidents_offenses_victims_and_known_offenders_by_offense_type_2016.csv\").drop([\"Unnamed: 5\", \"Unnamed: 6\"], axis = 1)\n",
    "offense_type_by_offender_race = pd.read_csv(\"./data/table_3_offenses_known_offenders_race_and_ethnicity_by_offense_type_2016.csv\")\n",
    "motivation_by_crime_type = pd.read_csv(\"./data/table_4_offenses_offense_type_by_bias_motivation_2016.csv\")\n",
    "motivation_by_offender_race = pd.read_csv(\"./data/table_5_offenses_known_offenders_race_and_ethnicity_by_bias_motivation_2016.csv\").drop([\"Unnamed: 14\", \"Unnamed: 15\", \" \"], axis = 1)\n",
    "location_by_motivation = pd.read_csv(\"./data/table_10_incidents_bias_motivation_by_location_2016.csv\").drop([\"Unnamed: 9\", \"Unnamed: 10\", \"Unnamed: 11\", \"Unnamed: 12\"], axis = 1)\n",
    "state_by_crime_type = pd.read_csv(\"./data/table_11_offenses_offense_type_by_participating_state_2016.csv\")\n"
   ]
  },
  {
   "cell_type": "code",
   "execution_count": null,
   "metadata": {},
   "outputs": [],
   "source": []
  },
  {
   "cell_type": "markdown",
   "metadata": {},
   "source": [
    "# Statistical Modeling"
   ]
  },
  {
   "cell_type": "markdown",
   "metadata": {},
   "source": [
    "Null Hypothesis\n"
   ]
  },
  {
   "cell_type": "markdown",
   "metadata": {},
   "source": []
  },
  {
   "cell_type": "markdown",
   "metadata": {},
   "source": []
  },
  {
   "cell_type": "markdown",
   "metadata": {},
   "source": []
  }
 ],
 "metadata": {
  "kernelspec": {
   "display_name": "Python 3",
   "language": "python",
   "name": "python3"
  },
  "language_info": {
   "codemirror_mode": {
    "name": "ipython",
    "version": 3
   },
   "file_extension": ".py",
   "mimetype": "text/x-python",
   "name": "python",
   "nbconvert_exporter": "python",
   "pygments_lexer": "ipython3",
   "version": "3.7.0"
  }
 },
 "nbformat": 4,
 "nbformat_minor": 2
}
