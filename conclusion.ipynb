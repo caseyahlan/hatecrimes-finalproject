{
 "cells": [
  {
   "cell_type": "code",
   "execution_count": 1,
   "metadata": {},
   "outputs": [
    {
     "data": {
      "text/html": [
       "\n",
       "<style>\n",
       ".prompt {\n",
       "  display: none;\n",
       "}\n",
       "</style>\n",
       "<script>\n",
       "  function code_toggle() {\n",
       "    if (code_shown){\n",
       "      $('div.input').hide('500');\n",
       "      $('#toggleButton').val('Show Code')\n",
       "    } else {\n",
       "      $('div.input').show('500');\n",
       "      $('#toggleButton').val('Hide Code')\n",
       "    }\n",
       "    code_shown = !code_shown\n",
       "  }\n",
       "\n",
       "  $( document ).ready(function(){\n",
       "    code_shown=false;\n",
       "    $('div.input').hide()\n",
       "  });\n",
       "</script>\n"
      ],
      "text/plain": [
       "<IPython.core.display.HTML object>"
      ]
     },
     "execution_count": 1,
     "metadata": {},
     "output_type": "execute_result"
    }
   ],
   "source": [
    "from IPython.display import HTML\n",
    "HTML('''\n",
    "<style>\n",
    ".prompt {\n",
    "  display: none;\n",
    "}\n",
    "</style>\n",
    "<script>\n",
    "  function code_toggle() {\n",
    "    if (code_shown){\n",
    "      $('div.input').hide('500');\n",
    "      $('#toggleButton').val('Show Code')\n",
    "    } else {\n",
    "      $('div.input').show('500');\n",
    "      $('#toggleButton').val('Hide Code')\n",
    "    }\n",
    "    code_shown = !code_shown\n",
    "  }\n",
    "\n",
    "  $( document ).ready(function(){\n",
    "    code_shown=false;\n",
    "    $('div.input').hide()\n",
    "  });\n",
    "</script>\n",
    "''')"
   ]
  },
  {
   "cell_type": "markdown",
   "metadata": {},
   "source": [
    "[Problem Overview](index.html) | [Exploratory Data Analysis](analysis.html) | [Modeling Analysis](modeling_analysis.html) | Conclusion\n",
    "# Conclusion\n",
    "After exploring and analyzing the hate crime datasets from fivethirtyeight and the FBI, we are still left with questions and concerns about this topic. Throughout our research of the project domain, we discovered many inconsistencies in the way states collect data about hate crimes. For example, Hawaii does not use police departments or sheriffs' offices to submit hate crime data to the FBI. Instead, the attorney general's office is responsible for keeping a running tally. There is also evidence that hate crimes are vastly underreported across the country. Whether for fear of retaliation or law enforcement officers not taking these incidents seriously, individuals are not reporting hate crimes and institutions are not consistently addressing hate crimes. In addition, there is no standard way to define a hate crime, which means similar or identical crimes are being reported as hate crimes in some cases, and not in other cases. All of these inconsistencies in the way hate crime data is collected affect our ability to make significant conclusions about the impact of hate crimes in the United States as well as our ability to predict rates of hate crimes in the future.  \n",
    "\n",
    "Despite these inconsistencies, there are important messages to be gained from this analysis. The large majority of hate crimes in these datasets show Anti Black or African American motivations, which demonstrates the continued effects and ramifications of individualized and institutionalized racism in the United States. We found that features related to income tended to correlate most to high rates of hate crimes. These findings show how income inequality affects communities and individual lives. District of Columbia reports the both the highest number of hate crimes per 100k people as well as the highest Gini index. It is also important to note that District of Columbia has the smallest population across the United States and only one main police department, which are factors that likely contribute to the high rates of hate crimes in this district. These outliers are important to note, but there is also significant context to uncover behind the reasoning for these outcomes.  \n",
    "\n",
    "New data about hate crimes is collected every year, and this project can continue to expand with these new findings. It would be especially interesting to look into historical factors that contribute to a rise in hate crimes. There is also not enough collective information about how hate crimes are reported differently from one state to another. Additional work needs to be done to undertand how these factors contribute to the number of hate crimes. Doing more work predicting hate crimes using machine learning methods would help us understand how we can look forward and better understand what contributes to high rates of hate crimes in the United States\n",
    "\n",
    "This project provides some insight into how hate crimes affect individuals and communities in the United States, but there is still significant work to be done related to this topic. Training of law enforcement and education of communities is a start. That said, hate crimes will not stop unless there is a shift in the way of thinking in the United States. Racism, homophobia, xenophobia, sexism, and economic inequality, among other factors, show up in different ways in the daily lives of every person in the United States. Until these issues are addressed, hate crimes will continue."
   ]
  }
 ],
 "metadata": {
  "kernelspec": {
   "display_name": "Python 3",
   "language": "python",
   "name": "python3"
  },
  "language_info": {
   "codemirror_mode": {
    "name": "ipython",
    "version": 3
   },
   "file_extension": ".py",
   "mimetype": "text/x-python",
   "name": "python",
   "nbconvert_exporter": "python",
   "pygments_lexer": "ipython3",
   "version": "3.6.5"
  }
 },
 "nbformat": 4,
 "nbformat_minor": 2
}
