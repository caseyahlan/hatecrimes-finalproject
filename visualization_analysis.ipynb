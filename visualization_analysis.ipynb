{
 "cells": [
  {
   "cell_type": "markdown",
   "metadata": {},
   "source": [
    "The first chart aims to look at the frequency of hate incidents for each bias-motivation that were reported in 2016. The bars are colored corresponding to their more general categories, such as Anti Black and Anti Arab being colored green since they correspond to \"Race/Ethnicity/Ancestry\".\n",
    "\n",
    "From this chart, it is immediatly clear thhhat Anti-Black or African American motivated incidents have the highest frequency at around 3900. This doubles the frequencies of both Anti-Jewish and Anti-Gay (Male) motivated incidents, which are both respectively, the most frequent attacks for the Religion and Sexual Orientation categories.\n",
    "\n",
    "[Previous FBI results](https://www.nbcnews.com/news/nbcblk/every-tally-hate-crimes-blacks-are-most-frequent-victims-n938541) paint a similar picture, with African Americans being targeted more than any other minority group, a fact that is in line with the US's treatment of African Americans, from slavery to the current political climate where white nationalism has become mainstream.\n",
    "\n",
    "Noteably, the biases that motivated the least hate incidents are Anti-Native Hawaaiin, Anti-Mormon, Anti-Jehovah's Witness, Anti-Buddhist and Anti-Male. It's important to note that although Anti-Native Hawaaiin motivated hate crimes rank low via this chart, the original FBI data frame does not inclde hate crame data from Hawaii, as it is the one state which does not take part in the annual report. It would be interesting and potentially enlightening for future studies to consult data on Hawaii's hate crimes, for there is much left uncovered.\n"
   ]
  },
  {
   "cell_type": "code",
   "execution_count": 1,
   "metadata": {},
   "outputs": [],
   "source": [
    "# could potentially talk about differences between freqency for\n",
    "# anti-judaism vs anti-buddhism -> could be caused mainly by\n",
    "# hhistory of anti-semitism and its re-emergence. Has Buddhhism/Mormonism/\n",
    "# Jehhovah's Witnesses ever gone through a period of experiencing hate\n",
    "# Is it dangerous to question why one group (Jews) are so hated by\n",
    "# America -> did it stem from WW2? "
   ]
  },
  {
   "cell_type": "markdown",
   "metadata": {},
   "source": [
    "The pie chart is a different visualization of the same data as detailed above. The benefit of the pie chart as compared to the previous bar chart is its ability to approximate that Anti-Black motivated hate incidents' encompass about a third of all hate incidents in the US as reported in 2016. "
   ]
  },
  {
   "cell_type": "code",
   "execution_count": 2,
   "metadata": {},
   "outputs": [],
   "source": [
    "# talk about future --> so racism is obviously the issue here,\n",
    "# what can this data do except shock people --> future legislation?"
   ]
  },
  {
   "cell_type": "code",
   "execution_count": 3,
   "metadata": {},
   "outputs": [],
   "source": [
    "# Ethnicity pie chart"
   ]
  },
  {
   "cell_type": "markdown",
   "metadata": {},
   "source": [
    "The next pie chart shows the proportion of offenses as committed by each ethnicity, a total of 5 which include (in order of highhest proportion):\n",
    "- Unknown offender\n",
    "- Unknown ethnicity\n",
    "- Not Hispanic or Latino\n",
    "- Hispanic or Latino\n",
    "- Group of multiple ethnicities\n",
    "\n",
    "The Unknown Offender slice takes up approximately 2/3 of the pie chart, meaning 2/3 of reported hate crimes do not have any data on the offender. The Unknown Ethnicity slice, meaning some aspect of the offender was identified but not their ethnicity, has the second highest freqency, affirming that most hate crime offenders do not have a reported ethnicity.\n"
   ]
  },
  {
   "cell_type": "code",
   "execution_count": null,
   "metadata": {},
   "outputs": [],
   "source": [
    "# Race Offender Pie Chart"
   ]
  },
  {
   "cell_type": "markdown",
   "metadata": {},
   "source": [
    "Although the offenders' ethnicities are mostly hidden from the dataset, the offenders' reported race is slightly more comprehensive, as shown in the next pie chart.\n",
    "\n",
    "In this pie chart, the Unknown Race slice takes up almost half of the chart, though is followed by the white race, taking up about 1/3 of the pie. Black or African American make up the third largest chunk."
   ]
  },
  {
   "cell_type": "code",
   "execution_count": 4,
   "metadata": {},
   "outputs": [],
   "source": [
    "# Scatter plot of gini_index and avg_hatecrimes_per_100k_fbi\n"
   ]
  },
  {
   "cell_type": "markdown",
   "metadata": {},
   "source": [
    "The gini_index scatterplot aims to discover the relationship between each state's gini index and the average hatecrimms per 100k for each state. This data comes from FiveThirtyEight's hate crime GitHub page, which was used in their [article](https://fivethirtyeight.com/features/higher-rates-of-hate-crimes-are-tied-to-income-inequality/) discussing the impact of income inequality on hate crimes.\n",
    "\n",
    "[The Gini Index](https://www.investopedia.com/terms/g/gini-index.asp) is a measure of economic inequality, with a value of 0 representing perfect equality and a measure of 1 representing representing extreme inequality (one person holding all the wealth in a community). \n",
    "\n",
    "The article explains that community's with highher rates of income inequality have higher rates of hate crimes, supposing that the crimes are motivated by resentment towards minorities who the offender percieves to be doing better than them.\n",
    "\n",
    "The scatterplot shows that the gini index and hate crames are not correlated. There is also a noteable outlier with a highh gini index (~0.53) and high hate crime rate (comparatively higher than other states) of 11 per 100k people.\n",
    "\n",
    "It's important to note that although the gini-index is one measure of income inequality, it is not the only measure. In fact, the same data frame from which the gini index was taken, also includes features such as median household income which we created a scatterplot for below"
   ]
  },
  {
   "cell_type": "code",
   "execution_count": 5,
   "metadata": {},
   "outputs": [],
   "source": [
    "# median household income vs avg hatecrimes\n",
    "# overall, write conclusion about income inequality, how it's getting worse"
   ]
  },
  {
   "cell_type": "markdown",
   "metadata": {},
   "source": [
    "The results of the scatterplot shows a higher, positive correlation than the gini-index, again with a noteable outlier. The same outlier (11 hatecrimes per 100k) has a median income of just under $70,000. This state is ____. \n",
    "\n",
    "The higher a state's median household income, the higher the average hate crime rate.\n",
    "\n",
    "In our statistical modeling section, we combine the two features (gini index and median household income) along with other features of income inequality in predicting a state's hate crime incididences.  "
   ]
  },
  {
   "cell_type": "code",
   "execution_count": null,
   "metadata": {},
   "outputs": [],
   "source": [
    "# Can't render plotly "
   ]
  }
 ],
 "metadata": {
  "kernelspec": {
   "display_name": "Python 3",
   "language": "python",
   "name": "python3"
  },
  "language_info": {
   "codemirror_mode": {
    "name": "ipython",
    "version": 3
   },
   "file_extension": ".py",
   "mimetype": "text/x-python",
   "name": "python",
   "nbconvert_exporter": "python",
   "pygments_lexer": "ipython3",
   "version": "3.6.5"
  }
 },
 "nbformat": 4,
 "nbformat_minor": 2
}
